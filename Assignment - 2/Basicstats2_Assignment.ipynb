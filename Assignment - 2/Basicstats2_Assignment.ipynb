{
  "cells": [
    {
      "cell_type": "code",
      "execution_count": null,
      "id": "6fec8b81",
      "metadata": {
        "id": "6fec8b81"
      },
      "outputs": [],
      "source": [
        "from scipy import stats\n",
        "import numpy as np\n",
        "import pandas as pd"
      ]
    },
    {
      "cell_type": "code",
      "execution_count": null,
      "id": "d24d5fba",
      "metadata": {
        "colab": {
          "base_uri": "https://localhost:8080/",
          "height": 554
        },
        "id": "d24d5fba",
        "outputId": "e82a8915-71bc-4f9b-f023-7780486702f6"
      },
      "outputs": [
        {
          "output_type": "execute_result",
          "data": {
            "text/plain": [
              "0     1.13\n",
              "1     1.55\n",
              "2     1.43\n",
              "3     0.92\n",
              "4     1.25\n",
              "5     1.36\n",
              "6     1.32\n",
              "7     0.85\n",
              "8     1.07\n",
              "9     1.48\n",
              "10    1.20\n",
              "11    1.33\n",
              "12    1.18\n",
              "13    1.22\n",
              "14    1.29\n",
              "dtype: float64"
            ],
            "text/html": [
              "<div>\n",
              "<style scoped>\n",
              "    .dataframe tbody tr th:only-of-type {\n",
              "        vertical-align: middle;\n",
              "    }\n",
              "\n",
              "    .dataframe tbody tr th {\n",
              "        vertical-align: top;\n",
              "    }\n",
              "\n",
              "    .dataframe thead th {\n",
              "        text-align: right;\n",
              "    }\n",
              "</style>\n",
              "<table border=\"1\" class=\"dataframe\">\n",
              "  <thead>\n",
              "    <tr style=\"text-align: right;\">\n",
              "      <th></th>\n",
              "      <th>0</th>\n",
              "    </tr>\n",
              "  </thead>\n",
              "  <tbody>\n",
              "    <tr>\n",
              "      <th>0</th>\n",
              "      <td>1.13</td>\n",
              "    </tr>\n",
              "    <tr>\n",
              "      <th>1</th>\n",
              "      <td>1.55</td>\n",
              "    </tr>\n",
              "    <tr>\n",
              "      <th>2</th>\n",
              "      <td>1.43</td>\n",
              "    </tr>\n",
              "    <tr>\n",
              "      <th>3</th>\n",
              "      <td>0.92</td>\n",
              "    </tr>\n",
              "    <tr>\n",
              "      <th>4</th>\n",
              "      <td>1.25</td>\n",
              "    </tr>\n",
              "    <tr>\n",
              "      <th>5</th>\n",
              "      <td>1.36</td>\n",
              "    </tr>\n",
              "    <tr>\n",
              "      <th>6</th>\n",
              "      <td>1.32</td>\n",
              "    </tr>\n",
              "    <tr>\n",
              "      <th>7</th>\n",
              "      <td>0.85</td>\n",
              "    </tr>\n",
              "    <tr>\n",
              "      <th>8</th>\n",
              "      <td>1.07</td>\n",
              "    </tr>\n",
              "    <tr>\n",
              "      <th>9</th>\n",
              "      <td>1.48</td>\n",
              "    </tr>\n",
              "    <tr>\n",
              "      <th>10</th>\n",
              "      <td>1.20</td>\n",
              "    </tr>\n",
              "    <tr>\n",
              "      <th>11</th>\n",
              "      <td>1.33</td>\n",
              "    </tr>\n",
              "    <tr>\n",
              "      <th>12</th>\n",
              "      <td>1.18</td>\n",
              "    </tr>\n",
              "    <tr>\n",
              "      <th>13</th>\n",
              "      <td>1.22</td>\n",
              "    </tr>\n",
              "    <tr>\n",
              "      <th>14</th>\n",
              "      <td>1.29</td>\n",
              "    </tr>\n",
              "  </tbody>\n",
              "</table>\n",
              "</div><br><label><b>dtype:</b> float64</label>"
            ]
          },
          "metadata": {},
          "execution_count": 2
        }
      ],
      "source": [
        "df=pd.Series([1.13, 1.55, 1.43, 0.92, 1.25, 1.36, 1.32, 0.85, 1.07, 1.48, 1.20, 1.33, 1.18, 1.22, 1.29])\n",
        "df"
      ]
    },
    {
      "cell_type": "markdown",
      "id": "c2e2265e",
      "metadata": {
        "id": "c2e2265e"
      },
      "source": [
        "# 99% Confidence Interval using Sample Standard Deviation"
      ]
    },
    {
      "cell_type": "code",
      "execution_count": null,
      "id": "dfa1ae0f",
      "metadata": {
        "colab": {
          "base_uri": "https://localhost:8080/"
        },
        "id": "dfa1ae0f",
        "outputId": "a3233913-bf44-4361-a6b4-91da26261456"
      },
      "outputs": [
        {
          "output_type": "execute_result",
          "data": {
            "text/plain": [
              "1.2386666666666666"
            ]
          },
          "metadata": {},
          "execution_count": 4
        }
      ],
      "source": [
        "# Sample mean\n",
        "sample_mean = np.mean(df)\n",
        "sample_mean"
      ]
    },
    {
      "cell_type": "code",
      "execution_count": null,
      "id": "107b64d8",
      "metadata": {
        "colab": {
          "base_uri": "https://localhost:8080/"
        },
        "id": "107b64d8",
        "outputId": "1ad8f6ff-fe00-4507-98c1-1f8b6b7a0c25"
      },
      "outputs": [
        {
          "output_type": "execute_result",
          "data": {
            "text/plain": [
              "0.19316412956959936"
            ]
          },
          "metadata": {},
          "execution_count": 5
        }
      ],
      "source": [
        "#Standrad Deviation\n",
        "sample_std = np.std(df, ddof=1)\n",
        "sample_std"
      ]
    },
    {
      "cell_type": "code",
      "execution_count": null,
      "id": "3651e436",
      "metadata": {
        "colab": {
          "base_uri": "https://localhost:8080/"
        },
        "id": "3651e436",
        "outputId": "cca88486-b004-4d16-9380-ad51fb2cbee9"
      },
      "outputs": [
        {
          "output_type": "execute_result",
          "data": {
            "text/plain": [
              "15"
            ]
          },
          "metadata": {},
          "execution_count": 6
        }
      ],
      "source": [
        "# Sample size\n",
        "n = len(df)\n",
        "n"
      ]
    },
    {
      "cell_type": "code",
      "execution_count": null,
      "id": "8d3609c2",
      "metadata": {
        "id": "8d3609c2"
      },
      "outputs": [],
      "source": [
        "# Degrees of freedom\n",
        "da = n - 1"
      ]
    },
    {
      "cell_type": "code",
      "execution_count": null,
      "id": "de7ae146",
      "metadata": {
        "colab": {
          "base_uri": "https://localhost:8080/"
        },
        "id": "de7ae146",
        "outputId": "a89ede67-6645-418d-c53f-6b3fd1c6f87c"
      },
      "outputs": [
        {
          "output_type": "execute_result",
          "data": {
            "text/plain": [
              "2.976842734370834"
            ]
          },
          "metadata": {},
          "execution_count": 8
        }
      ],
      "source": [
        "# Critical t-value for 99% confidence interval\n",
        "t_critical = stats.t.ppf(0.995, da)\n",
        "t_critical"
      ]
    },
    {
      "cell_type": "code",
      "execution_count": null,
      "id": "9ec7b139",
      "metadata": {
        "colab": {
          "base_uri": "https://localhost:8080/"
        },
        "id": "9ec7b139",
        "outputId": "1a027bb4-5164-4eda-d205-5eda6433c104"
      },
      "outputs": [
        {
          "output_type": "execute_result",
          "data": {
            "text/plain": [
              "0.14846932822817596"
            ]
          },
          "metadata": {},
          "execution_count": 10
        }
      ],
      "source": [
        "# Margin of error using t-distribution\n",
        "margin_of_error_t = t_critical * (sample_std / np.sqrt(n))\n",
        "margin_of_error_t"
      ]
    },
    {
      "cell_type": "code",
      "execution_count": null,
      "id": "979a95c6",
      "metadata": {
        "id": "979a95c6"
      },
      "outputs": [],
      "source": [
        "# Confidence interval using t-distribution\n",
        "ci_t_lower = sample_mean - margin_of_error_t\n",
        "ci_t_upper = sample_mean + margin_of_error_t"
      ]
    },
    {
      "cell_type": "code",
      "execution_count": null,
      "id": "efb8719e",
      "metadata": {
        "colab": {
          "base_uri": "https://localhost:8080/"
        },
        "id": "efb8719e",
        "outputId": "d3f663b8-4cbe-42ad-e1af-c45b08182281"
      },
      "outputs": [
        {
          "output_type": "stream",
          "name": "stdout",
          "text": [
            "99% Confidence Interval using sample standard deviation: (1.090, 1.387)\n"
          ]
        }
      ],
      "source": [
        "print(f\"99% Confidence Interval using sample standard deviation: ({ci_t_lower:.3f}, {ci_t_upper:.3f})\")\n"
      ]
    },
    {
      "cell_type": "markdown",
      "id": "a5b35c4f",
      "metadata": {
        "id": "a5b35c4f"
      },
      "source": [
        "# 99% Confidence Interval using Known Population Standard Deviation"
      ]
    },
    {
      "cell_type": "code",
      "execution_count": null,
      "id": "56206453",
      "metadata": {
        "id": "56206453"
      },
      "outputs": [],
      "source": [
        "# Given population standard deviation\n",
        "population_std = 0.2"
      ]
    },
    {
      "cell_type": "code",
      "execution_count": null,
      "id": "1297f059",
      "metadata": {
        "colab": {
          "base_uri": "https://localhost:8080/"
        },
        "id": "1297f059",
        "outputId": "ace20ca6-aeaa-4be3-87eb-6d87b2b9a8b2"
      },
      "outputs": [
        {
          "output_type": "execute_result",
          "data": {
            "text/plain": [
              "2.5758293035489004"
            ]
          },
          "metadata": {},
          "execution_count": 14
        }
      ],
      "source": [
        "# Critical z-value for 99% confidence interval\n",
        "z_critical = stats.norm.ppf(0.995)\n",
        "z_critical"
      ]
    },
    {
      "cell_type": "code",
      "execution_count": null,
      "id": "88d0d880",
      "metadata": {
        "colab": {
          "base_uri": "https://localhost:8080/"
        },
        "id": "88d0d880",
        "outputId": "069a4dda-1c31-4d11-bcf1-2d13d905405a"
      },
      "outputs": [
        {
          "output_type": "execute_result",
          "data": {
            "text/plain": [
              "0.13301525327090588"
            ]
          },
          "metadata": {},
          "execution_count": 15
        }
      ],
      "source": [
        "# Margin of error using z-distribution\n",
        "margin_of_error_z = z_critical * (population_std / np.sqrt(n))\n",
        "margin_of_error_z"
      ]
    },
    {
      "cell_type": "code",
      "execution_count": null,
      "id": "73fffda2",
      "metadata": {
        "id": "73fffda2"
      },
      "outputs": [],
      "source": [
        "# Confidence interval using z-distribution\n",
        "ci_z_lower = sample_mean - margin_of_error_z\n",
        "ci_z_upper = sample_mean + margin_of_error_z"
      ]
    },
    {
      "cell_type": "code",
      "execution_count": null,
      "id": "d675f2d6",
      "metadata": {
        "colab": {
          "base_uri": "https://localhost:8080/"
        },
        "id": "d675f2d6",
        "outputId": "a5f7e945-c2f0-45d4-cc5d-54f416f990ad"
      },
      "outputs": [
        {
          "output_type": "stream",
          "name": "stdout",
          "text": [
            "99% Confidence Interval using known population standard deviation: (1.106, 1.372)\n"
          ]
        }
      ],
      "source": [
        "print(f\"99% Confidence Interval using known population standard deviation: ({ci_z_lower:.3f}, {ci_z_upper:.3f})\")"
      ]
    }
  ],
  "metadata": {
    "kernelspec": {
      "display_name": "Python 3 (ipykernel)",
      "language": "python",
      "name": "python3"
    },
    "language_info": {
      "codemirror_mode": {
        "name": "ipython",
        "version": 3
      },
      "file_extension": ".py",
      "mimetype": "text/x-python",
      "name": "python",
      "nbconvert_exporter": "python",
      "pygments_lexer": "ipython3",
      "version": "3.9.12"
    },
    "colab": {
      "provenance": []
    }
  },
  "nbformat": 4,
  "nbformat_minor": 5
}